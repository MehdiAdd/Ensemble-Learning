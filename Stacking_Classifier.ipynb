{
 "cells": [
  {
   "cell_type": "code",
   "execution_count": 1,
   "id": "fd27686d",
   "metadata": {},
   "outputs": [],
   "source": [
    "from sklearn import datasets\n",
    "from sklearn.ensemble import StackingClassifier\n",
    "\n",
    "\n",
    "from sklearn.naive_bayes import GaussianNB\n",
    "from sklearn.tree import DecisionTreeClassifier\n",
    "from sklearn.neighbors import KNeighborsClassifier\n",
    "from sklearn.model_selection import train_test_split\n",
    "from sklearn.svm import SVC "
   ]
  },
  {
   "cell_type": "code",
   "execution_count": 50,
   "id": "44da16a7",
   "metadata": {},
   "outputs": [],
   "source": [
    "# data set loading\n",
    "X,y= datasets.load_breast_cancer(return_X_y=True)\n",
    "\n",
    "# dividing the data set  into training and testing samples \n",
    "X_train, X_test, y_train, y_test= train_test_split(X,y,test_size=0.3,random_state=0) "
   ]
  },
  {
   "cell_type": "code",
   "execution_count": 59,
   "id": "f001a0f8",
   "metadata": {},
   "outputs": [],
   "source": [
    "# First level classifiers\n",
    "model_1=SVC()\n",
    "model_2=GaussianNB()\n",
    "model_3=DecisionTreeClassifier()"
   ]
  },
  {
   "cell_type": "code",
   "execution_count": 60,
   "id": "91b88bdb",
   "metadata": {},
   "outputs": [
    {
     "data": {
      "text/plain": [
       "DecisionTreeClassifier()"
      ]
     },
     "execution_count": 60,
     "metadata": {},
     "output_type": "execute_result"
    }
   ],
   "source": [
    "# training the first level classifiers on the training sample\n",
    "model_1.fit(X_train,y_train)\n",
    "model_2.fit(X_train,y_train)\n",
    "model_3.fit(X_train,y_train)"
   ]
  },
  {
   "cell_type": "code",
   "execution_count": 61,
   "id": "8cdcb815",
   "metadata": {},
   "outputs": [
    {
     "name": "stdout",
     "output_type": "stream",
     "text": [
      "SVC: 0.9239766081871345\n",
      "GaussianDB: 0.9239766081871345\n",
      "DecisionTreeClassifier: 0.9064327485380117\n"
     ]
    }
   ],
   "source": [
    "# the gotten accuracy for each classifier\n",
    "print(\"SVC: \"+ str(model_1.score(X_test,y_test)))\n",
    "print(\"GaussianDB: \"+str(model_2.score(X_test,y_test)) )\n",
    "print(\"DecisionTreeClassifier: \"+ str(model_3.score(X_test,y_test)))\n"
   ]
  },
  {
   "cell_type": "code",
   "execution_count": 62,
   "id": "8f8b4816",
   "metadata": {},
   "outputs": [],
   "source": [
    "# the meta-classifier\n",
    "model_4=StackingClassifier([('SVC',model_1),\n",
    "                            ('GaussianDB',model_2),\n",
    "                            ('DecisionTreeClassifier',model_3)],final_estimator=KNeighborsClassifier())"
   ]
  },
  {
   "cell_type": "code",
   "execution_count": 71,
   "id": "0fa1334b",
   "metadata": {},
   "outputs": [
    {
     "name": "stdout",
     "output_type": "stream",
     "text": [
      "stacking Classifier: 0.9649122807017544\n"
     ]
    }
   ],
   "source": [
    "# training the meta-classifier using the predictions of the first level classifiers\n",
    "model_4.fit(X_train,y_train)\n",
    "\n",
    "#the accuracy raised to 0.96% \n",
    "print(\"stacking Classifier: \"+ str(model_4.score(X_test,y_test)))"
   ]
  }
 ],
 "metadata": {
  "kernelspec": {
   "display_name": "Python 3 (ipykernel)",
   "language": "python",
   "name": "python3"
  },
  "language_info": {
   "codemirror_mode": {
    "name": "ipython",
    "version": 3
   },
   "file_extension": ".py",
   "mimetype": "text/x-python",
   "name": "python",
   "nbconvert_exporter": "python",
   "pygments_lexer": "ipython3",
   "version": "3.7.11"
  }
 },
 "nbformat": 4,
 "nbformat_minor": 5
}
